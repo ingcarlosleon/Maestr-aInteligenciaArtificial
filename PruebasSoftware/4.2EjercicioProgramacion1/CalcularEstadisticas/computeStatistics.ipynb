{
  "nbformat": 4,
  "nbformat_minor": 0,
  "metadata": {
    "colab": {
      "provenance": []
    },
    "kernelspec": {
      "name": "python3",
      "display_name": "Python 3"
    },
    "language_info": {
      "name": "python"
    }
  },
  "cells": [
    {
      "cell_type": "markdown",
      "source": [
        "# Análisis Estadístico de Datos\n",
        "Este cuaderno contiene funciones para calcular estadísticas básicas como la media, la mediana, la moda y la desviación estándar de una lista de números.\n"
      ],
      "metadata": {
        "id": "7QPYBRUy9ObE"
      }
    },
    {
      "cell_type": "code",
      "source": [
        "# Importaciones necesarias\n",
        "import time\n",
        "import sys\n",
        "import math\n",
        "import os\n",
        "\n",
        "base_path = '/content/CalidadSoftware'"
      ],
      "metadata": {
        "id": "V-cZtB3H9RZh"
      },
      "execution_count": 91,
      "outputs": []
    },
    {
      "cell_type": "markdown",
      "source": [
        "Parte 2: Función para Calcular la Media"
      ],
      "metadata": {
        "id": "mEaHNS9s9uzd"
      }
    },
    {
      "cell_type": "code",
      "source": [
        "def calculate_mean(data):\n",
        "    \"\"\"\n",
        "    Calcula la media de una lista de números.\n",
        "    \"\"\"\n",
        "    return sum(data) / len(data) if len(data) > 0 else 0\n"
      ],
      "metadata": {
        "id": "GHPZsU9k9pvy"
      },
      "execution_count": 92,
      "outputs": []
    },
    {
      "cell_type": "markdown",
      "source": [
        "Parte 3: Función para Calcular la Mediana"
      ],
      "metadata": {
        "id": "eKhxwPih93Zy"
      }
    },
    {
      "cell_type": "code",
      "source": [
        "def calculate_median(data):\n",
        "    \"\"\"\n",
        "    Calcula la mediana de una lista de números.\n",
        "    \"\"\"\n",
        "    sorted_data = sorted(data)\n",
        "    n = len(sorted_data)\n",
        "    if n % 2 == 0:\n",
        "        middle1 = sorted_data[n // 2 - 1]\n",
        "        middle2 = sorted_data[n // 2]\n",
        "        return (middle1 + middle2) / 2\n",
        "    return sorted_data[n // 2]\n"
      ],
      "metadata": {
        "id": "d1gPoGWc-Bje"
      },
      "execution_count": 93,
      "outputs": []
    },
    {
      "cell_type": "markdown",
      "source": [
        "Parte 4: Función para Calcular la Moda"
      ],
      "metadata": {
        "id": "Si9TKxUh-G22"
      }
    },
    {
      "cell_type": "code",
      "source": [
        "def calculate_mode(data):\n",
        "    \"\"\"\n",
        "    Calcula la moda de una lista de números.\n",
        "    \"\"\"\n",
        "    frequency = {}\n",
        "    for num in data:\n",
        "        frequency[num] = frequency.get(num, 0) + 1\n",
        "    max_freq = max(frequency.values())\n",
        "    modes = [k for k, v in frequency.items() if v == max_freq]\n",
        "    return modes[0] if modes else None  # Devuelve la primera moda si existe"
      ],
      "metadata": {
        "id": "nvRPjQHw-H1V"
      },
      "execution_count": 94,
      "outputs": []
    },
    {
      "cell_type": "markdown",
      "source": [
        "Parte 5: Función para Calcular la Desviación Estándar"
      ],
      "metadata": {
        "id": "17BGNMeW-UxN"
      }
    },
    {
      "cell_type": "code",
      "source": [
        "def calculate_standard_deviation(data, mean):\n",
        "    \"\"\"\n",
        "    Calcula la desviación estándar de una lista de números.\n",
        "    \"\"\"\n",
        "    variance = sum((x - mean) ** 2 for x in data) / len(data) if len(data) > 0 else 0\n",
        "    return math.sqrt(variance)"
      ],
      "metadata": {
        "id": "DHSVLach-Vnc"
      },
      "execution_count": 95,
      "outputs": []
    },
    {
      "cell_type": "markdown",
      "source": [
        "Parte 6: Función para Calcular la Varianza"
      ],
      "metadata": {
        "id": "aUoyqoacAhBo"
      }
    },
    {
      "cell_type": "code",
      "source": [
        "def calculate_variance(data, mean):\n",
        "    \"\"\"\n",
        "    Calcula la varianza de una lista de números.\n",
        "    \"\"\"\n",
        "    return sum((x - mean) ** 2 for x in data) / len(data) if len(data) > 0 else 0"
      ],
      "metadata": {
        "id": "5KsZu_MgAlj3"
      },
      "execution_count": 96,
      "outputs": []
    },
    {
      "cell_type": "markdown",
      "source": [
        "Parte 7: Función para Manejar Datos Inválidos"
      ],
      "metadata": {
        "id": "8uGwVfIQfKkz"
      }
    },
    {
      "cell_type": "code",
      "source": [
        "def handle_invalid_data(data_str):\n",
        "    \"\"\"\n",
        "    Maneja datos inválidos intentando convertirlos a float.\n",
        "    Si la conversión falla, elimina los caracteres no numéricos y cuenta los datos.\n",
        "    \"\"\"\n",
        "    try:\n",
        "        return float(data_str)\n",
        "    except ValueError:\n",
        "        numeric_value = ''.join(char for char in data_str if char.isdigit() or char == '.')\n",
        "        if numeric_value:\n",
        "            print(f\"Converted non-numeric data: {data_str} to {numeric_value}\")\n",
        "            return float(numeric_value)\n",
        "        print(f\"Ignoring invalid data: {data_str}\")\n",
        "        return None"
      ],
      "metadata": {
        "id": "Km0aAxDC-ete"
      },
      "execution_count": 97,
      "outputs": []
    },
    {
      "cell_type": "markdown",
      "source": [
        "Parte 8: Función para Leer Datos de un Archivo"
      ],
      "metadata": {
        "id": "35z4HfANAvrg"
      }
    },
    {
      "cell_type": "code",
      "source": [
        "def read_data_from_file(filename):\n",
        "    \"\"\"\n",
        "    Lee datos de un archivo y maneja datos inválidos.\n",
        "    Devuelve una lista de valores numéricos.\n",
        "    \"\"\"\n",
        "    data = []\n",
        "    with open(filename, 'r') as file:\n",
        "        for line in file:\n",
        "            for data_str in line.split():\n",
        "                numeric_value = handle_invalid_data(data_str)\n",
        "                if numeric_value is not None:\n",
        "                    data.append(numeric_value)\n",
        "    return data"
      ],
      "metadata": {
        "id": "57MGOFb3AwYu"
      },
      "execution_count": 98,
      "outputs": []
    },
    {
      "cell_type": "markdown",
      "source": [
        "Parte 9: Leer y Procesar Cada Archivo"
      ],
      "metadata": {
        "id": "cub8CFW4IWMR"
      }
    },
    {
      "cell_type": "code",
      "source": [
        "file_names = ['TC1.txt', 'TC2.txt', 'TC3.txt', 'TC4.txt', 'TC5.txt', 'TC6.txt', 'TC7.txt']\n",
        "\n",
        "for file_name in file_names:\n",
        "    file_path = f\"{base_path}/{file_name}\"\n",
        "    print(file_path)\n",
        "    print(f\"Procesando {file_name}...\")\n",
        "    data = read_data_from_file(file_path)\n",
        "    # Aquí puedes llamar a tus funciones de estadísticas como calculate_mean, calculate_median, etc.\n",
        "    # Por ejemplo:\n",
        "    mean = calculate_mean(data)\n",
        "    median = calculate_median(data)\n",
        "    mode = calculate_mode(data)\n",
        "    std_dev = calculate_standard_deviation(data, mean)\n",
        "\n",
        "    # Mostrar resultados\n",
        "    print(f\"Media: {mean}, Mediana: {median}, Moda: {mode}, Desviación Estándar: {std_dev}\")\n"
      ],
      "metadata": {
        "colab": {
          "base_uri": "https://localhost:8080/"
        },
        "id": "k0piYMElIbpX",
        "outputId": "fc9d7353-1049-4f51-9e60-243bd59a4c4e"
      },
      "execution_count": 99,
      "outputs": [
        {
          "output_type": "stream",
          "name": "stdout",
          "text": [
            "/content/CalidadSoftware/TC1.txt\n",
            "Procesando TC1.txt...\n",
            "Media: 242.32, Mediana: 239.5, Moda: 393.0, Desviación Estándar: 145.25810683056557\n",
            "/content/CalidadSoftware/TC2.txt\n",
            "Procesando TC2.txt...\n",
            "Media: 250.7840161861406, Mediana: 247.0, Moda: 230.0, Desviación Estándar: 144.17131868884059\n",
            "/content/CalidadSoftware/TC3.txt\n",
            "Procesando TC3.txt...\n",
            "Media: 249.77621989860583, Mediana: 249.0, Moda: 94.0, Desviación Estándar: 145.31784980917962\n",
            "/content/CalidadSoftware/TC4.txt\n",
            "Procesando TC4.txt...\n",
            "Media: 149.00267347908746, Mediana: 147.75, Moda: 123.75, Desviación Estándar: 130.41441961308894\n",
            "/content/CalidadSoftware/TC5.txt\n",
            "Procesando TC5.txt...\n",
            "Ignoring invalid data: ABA\n",
            "Converted non-numeric data: 23,45 to 2345\n",
            "Converted non-numeric data: 11;54 to 1154\n",
            "Ignoring invalid data: ll\n",
            "Media: 251.25566343042073, Mediana: 246.0, Moda: 393.0, Desviación Estándar: 194.78713634976788\n",
            "/content/CalidadSoftware/TC6.txt\n",
            "Procesando TC6.txt...\n",
            "Media: 1.8790659927977473e+20, Mediana: 1.88008049965543e+20, Moda: 1.27620004531949e+20, Desviación Estándar: 1.0738205017381e+20\n",
            "/content/CalidadSoftware/TC7.txt\n",
            "Procesando TC7.txt...\n",
            "Ignoring invalid data: ABBA\n",
            "Ignoring invalid data: ERROR\n",
            "Media: 2.474673954997149e+20, Mediana: 2.4664097307429e+20, Moda: 1.57638329490099e+20, Desviación Estándar: 1.4460564700984703e+20\n"
          ]
        }
      ]
    },
    {
      "cell_type": "code",
      "source": [
        "import time\n",
        "import os\n",
        "from datetime import datetime\n",
        "\n",
        "def main():\n",
        "    start_time = time.time()\n",
        "\n",
        "    # Define la ruta base a tus archivos\n",
        "    base_path = '/content/CalidadSoftware'\n",
        "    file_names = ['TC1.txt', 'TC2.txt', 'TC3.txt', 'TC4.txt', 'TC5.txt', 'TC6.txt', 'TC7.txt']\n",
        "\n",
        "    # Preparar los encabezados para los resultados\n",
        "    headers = [\"TC\", \"COUNT\", \"MEAN\", \"MEDIAN\", \"MODE\", \"SD\", \"VAR\", \"Elapsed Time\", \"Timestamp\"]\n",
        "    file_results = []\n",
        "\n",
        "    # Procesar cada archivo\n",
        "    for file_name in file_names:\n",
        "        file_path = os.path.join(base_path, file_name)\n",
        "        print(f\"Procesando {file_name}...\")\n",
        "\n",
        "        # Llama aquí a tus funciones de procesamiento de datos\n",
        "        # Por ejemplo: data = read_data_from_file(file_path)\n",
        "        # mean, median, mode, std_dev = tus funciones de cálculo de estadísticas\n",
        "\n",
        "        # Simula resultados (reemplaza con tus cálculos reales)\n",
        "        result = [file_name, len(data), mean, median, mode, std_dev, \"variance\", time.time() - start_time, datetime.now()]\n",
        "        file_results.append(result)\n",
        "\n",
        "    # Mostrar y guardar los resultados\n",
        "    for row in file_results:\n",
        "        print('\\t'.join(map(str, row)))\n",
        "\n",
        "    # Al final de tu función main, donde guardas los resultados\n",
        "    result_file_path = os.path.join(base_path, 'StatisticsResults.txt')\n",
        "\n",
        "    with open(result_file_path, 'w', encoding='utf-8') as f:\n",
        "        # Escribir los encabezados\n",
        "        f.write('\\t'.join(headers) + '\\n')\n",
        "        # Escribir los datos\n",
        "        for row in file_results:\n",
        "            f.write('\\t'.join(map(str, row)) + '\\n')\n",
        "    print(f\"Results saved to {result_file_path}\")\n",
        "\n",
        "    # Medir y mostrar el tiempo transcurrido\n",
        "    elapsed_time = time.time() - start_time\n",
        "    print(f\"Tiempo total transcurrido: {elapsed_time} segundos.\")\n",
        "\n",
        "# Ejecutar la función principal\n",
        "if __name__ == \"__main__\":\n",
        "    main()\n"
      ],
      "metadata": {
        "id": "E6pgrvzg0MA5",
        "outputId": "1677840a-52c7-400d-d06a-2200cc91d528",
        "colab": {
          "base_uri": "https://localhost:8080/"
        }
      },
      "execution_count": 100,
      "outputs": [
        {
          "output_type": "stream",
          "name": "stdout",
          "text": [
            "Procesando TC1.txt...\n",
            "Procesando TC2.txt...\n",
            "Procesando TC3.txt...\n",
            "Procesando TC4.txt...\n",
            "Procesando TC5.txt...\n",
            "Procesando TC6.txt...\n",
            "Procesando TC7.txt...\n",
            "TC1.txt\t12767\t2.474673954997149e+20\t2.4664097307429e+20\t1.57638329490099e+20\t1.4460564700984703e+20\tvariance\t0.00011301040649414062\t2024-02-05 01:50:25.940450\n",
            "TC2.txt\t12767\t2.474673954997149e+20\t2.4664097307429e+20\t1.57638329490099e+20\t1.4460564700984703e+20\tvariance\t0.00016045570373535156\t2024-02-05 01:50:25.940487\n",
            "TC3.txt\t12767\t2.474673954997149e+20\t2.4664097307429e+20\t1.57638329490099e+20\t1.4460564700984703e+20\tvariance\t0.00019216537475585938\t2024-02-05 01:50:25.940518\n",
            "TC4.txt\t12767\t2.474673954997149e+20\t2.4664097307429e+20\t1.57638329490099e+20\t1.4460564700984703e+20\tvariance\t0.00021982192993164062\t2024-02-05 01:50:25.940545\n",
            "TC5.txt\t12767\t2.474673954997149e+20\t2.4664097307429e+20\t1.57638329490099e+20\t1.4460564700984703e+20\tvariance\t0.0002465248107910156\t2024-02-05 01:50:25.940573\n",
            "TC6.txt\t12767\t2.474673954997149e+20\t2.4664097307429e+20\t1.57638329490099e+20\t1.4460564700984703e+20\tvariance\t0.00027489662170410156\t2024-02-05 01:50:25.940600\n",
            "TC7.txt\t12767\t2.474673954997149e+20\t2.4664097307429e+20\t1.57638329490099e+20\t1.4460564700984703e+20\tvariance\t0.0003018379211425781\t2024-02-05 01:50:25.940627\n",
            "Results saved to /content/CalidadSoftware/StatisticsResults.txt\n",
            "Tiempo total transcurrido: 0.013869762420654297 segundos.\n"
          ]
        }
      ]
    },
    {
      "cell_type": "markdown",
      "source": [
        "Pasos para Analizar y Ajustar tu Código con PEP 8"
      ],
      "metadata": {
        "id": "XD2PgLam5Do2"
      }
    },
    {
      "cell_type": "code",
      "source": [
        "!pip install pylint\n"
      ],
      "metadata": {
        "colab": {
          "base_uri": "https://localhost:8080/"
        },
        "id": "1tve_Wyr5ExA",
        "outputId": "c6b4bcdf-ca2c-4297-df03-08b711e588be"
      },
      "execution_count": 101,
      "outputs": [
        {
          "output_type": "stream",
          "name": "stdout",
          "text": [
            "Requirement already satisfied: pylint in /usr/local/lib/python3.10/dist-packages (3.0.3)\n",
            "Requirement already satisfied: platformdirs>=2.2.0 in /usr/local/lib/python3.10/dist-packages (from pylint) (4.2.0)\n",
            "Requirement already satisfied: astroid<=3.1.0-dev0,>=3.0.1 in /usr/local/lib/python3.10/dist-packages (from pylint) (3.0.3)\n",
            "Requirement already satisfied: isort!=5.13.0,<6,>=4.2.5 in /usr/local/lib/python3.10/dist-packages (from pylint) (5.13.2)\n",
            "Requirement already satisfied: mccabe<0.8,>=0.6 in /usr/local/lib/python3.10/dist-packages (from pylint) (0.7.0)\n",
            "Requirement already satisfied: tomlkit>=0.10.1 in /usr/local/lib/python3.10/dist-packages (from pylint) (0.12.3)\n",
            "Requirement already satisfied: dill>=0.2 in /usr/local/lib/python3.10/dist-packages (from pylint) (0.3.8)\n",
            "Requirement already satisfied: tomli>=1.1.0 in /usr/local/lib/python3.10/dist-packages (from pylint) (2.0.1)\n",
            "Requirement already satisfied: typing-extensions>=4.0.0 in /usr/local/lib/python3.10/dist-packages (from astroid<=3.1.0-dev0,>=3.0.1->pylint) (4.5.0)\n"
          ]
        }
      ]
    },
    {
      "cell_type": "markdown",
      "source": [],
      "metadata": {
        "id": "ZeGFxkkmIY_3"
      }
    },
    {
      "cell_type": "markdown",
      "source": [
        "Una vez que se tiene el script en un archivo .py, se puede usar pylint para analizarlo, ejecutando el siguiente comando:"
      ],
      "metadata": {
        "id": "ZAYNqLYs6nS6"
      }
    },
    {
      "cell_type": "code",
      "source": [
        "!pylint /content/CalidadSoftware/mi_script.py\n"
      ],
      "metadata": {
        "colab": {
          "base_uri": "https://localhost:8080/"
        },
        "id": "mkdPqk9t6ztC",
        "outputId": "2129ff95-45c5-45af-83e6-58459dae1ba0"
      },
      "execution_count": 102,
      "outputs": [
        {
          "output_type": "stream",
          "name": "stdout",
          "text": [
            "************* Module mi_script\n",
            "CalidadSoftware/mi_script.py:12:0: C0303: Trailing whitespace (trailing-whitespace)\n",
            "CalidadSoftware/mi_script.py:18:0: C0303: Trailing whitespace (trailing-whitespace)\n",
            "CalidadSoftware/mi_script.py:29:0: W0311: Bad indentation. Found 1 spaces, expected 4 (bad-indentation)\n",
            "CalidadSoftware/mi_script.py:33:0: W0311: Bad indentation. Found 1 spaces, expected 4 (bad-indentation)\n",
            "CalidadSoftware/mi_script.py:34:0: W0311: Bad indentation. Found 1 spaces, expected 4 (bad-indentation)\n",
            "CalidadSoftware/mi_script.py:35:0: W0311: Bad indentation. Found 5 spaces, expected 8 (bad-indentation)\n",
            "CalidadSoftware/mi_script.py:36:0: W0311: Bad indentation. Found 1 spaces, expected 4 (bad-indentation)\n",
            "CalidadSoftware/mi_script.py:37:0: W0311: Bad indentation. Found 1 spaces, expected 4 (bad-indentation)\n",
            "CalidadSoftware/mi_script.py:38:0: W0311: Bad indentation. Found 1 spaces, expected 4 (bad-indentation)\n",
            "CalidadSoftware/mi_script.py:42:0: W0311: Bad indentation. Found 1 spaces, expected 4 (bad-indentation)\n",
            "CalidadSoftware/mi_script.py:43:0: W0311: Bad indentation. Found 1 spaces, expected 4 (bad-indentation)\n",
            "CalidadSoftware/mi_script.py:63:0: C0303: Trailing whitespace (trailing-whitespace)\n",
            "CalidadSoftware/mi_script.py:66:0: C0303: Trailing whitespace (trailing-whitespace)\n",
            "CalidadSoftware/mi_script.py:78:0: C0303: Trailing whitespace (trailing-whitespace)\n",
            "CalidadSoftware/mi_script.py:81:0: C0303: Trailing whitespace (trailing-whitespace)\n",
            "CalidadSoftware/mi_script.py:133:0: C0301: Line too long (122/100) (line-too-long)\n",
            "CalidadSoftware/mi_script.py:157:0: C0304: Final newline missing (missing-final-newline)\n",
            "CalidadSoftware/mi_script.py:1:0: C0114: Missing module docstring (missing-module-docstring)\n",
            "CalidadSoftware/mi_script.py:9:0: C0103: Constant name \"base_path\" doesn't conform to UPPER_CASE naming style (invalid-name)\n",
            "CalidadSoftware/mi_script.py:11:0: C0116: Missing function or method docstring (missing-function-docstring)\n",
            "CalidadSoftware/mi_script.py:11:19: W0621: Redefining name 'data' from outer scope (line 97) (redefined-outer-name)\n",
            "CalidadSoftware/mi_script.py:16:0: C0116: Missing function or method docstring (missing-function-docstring)\n",
            "CalidadSoftware/mi_script.py:16:21: W0621: Redefining name 'data' from outer scope (line 97) (redefined-outer-name)\n",
            "CalidadSoftware/mi_script.py:27:0: C0116: Missing function or method docstring (missing-function-docstring)\n",
            "CalidadSoftware/mi_script.py:27:23: W0621: Redefining name 'data' from outer scope (line 97) (redefined-outer-name)\n",
            "CalidadSoftware/mi_script.py:27:29: W0621: Redefining name 'mean' from outer scope (line 100) (redefined-outer-name)\n",
            "CalidadSoftware/mi_script.py:31:0: C0116: Missing function or method docstring (missing-function-docstring)\n",
            "CalidadSoftware/mi_script.py:31:19: W0621: Redefining name 'data' from outer scope (line 97) (redefined-outer-name)\n",
            "CalidadSoftware/mi_script.py:41:0: C0116: Missing function or method docstring (missing-function-docstring)\n",
            "CalidadSoftware/mi_script.py:41:33: W0621: Redefining name 'data' from outer scope (line 97) (redefined-outer-name)\n",
            "CalidadSoftware/mi_script.py:41:39: W0621: Redefining name 'mean' from outer scope (line 100) (redefined-outer-name)\n",
            "CalidadSoftware/mi_script.py:62:0: C0116: Missing function or method docstring (missing-function-docstring)\n",
            "CalidadSoftware/mi_script.py:62:0: E0102: function already defined line 45 (function-redefined)\n",
            "CalidadSoftware/mi_script.py:77:0: C0116: Missing function or method docstring (missing-function-docstring)\n",
            "CalidadSoftware/mi_script.py:82:4: W0621: Redefining name 'data' from outer scope (line 97) (redefined-outer-name)\n",
            "CalidadSoftware/mi_script.py:83:9: W1514: Using open without explicitly specifying an encoding (unspecified-encoding)\n",
            "CalidadSoftware/mi_script.py:91:4: W0101: Unreachable code (unreachable)\n",
            "CalidadSoftware/mi_script.py:91:4: W0612: Unused variable 'file_names' (unused-variable)\n",
            "CalidadSoftware/mi_script.py:93:17: E0602: Undefined variable 'file_names' (undefined-variable)\n",
            "CalidadSoftware/mi_script.py:100:4: C0103: Constant name \"mean\" doesn't conform to UPPER_CASE naming style (invalid-name)\n",
            "CalidadSoftware/mi_script.py:108:4: W0404: Reimport 'time' (imported line 4) (reimported)\n",
            "CalidadSoftware/mi_script.py:109:0: W0404: Reimport 'os' (imported line 7) (reimported)\n",
            "CalidadSoftware/mi_script.py:109:0: C0413: Import \"import os\" should be placed at the top of the module (wrong-import-position)\n",
            "CalidadSoftware/mi_script.py:110:0: C0413: Import \"from datetime import datetime\" should be placed at the top of the module (wrong-import-position)\n",
            "CalidadSoftware/mi_script.py:112:0: C0116: Missing function or method docstring (missing-function-docstring)\n",
            "CalidadSoftware/mi_script.py:116:4: W0621: Redefining name 'base_path' from outer scope (line 9) (redefined-outer-name)\n",
            "CalidadSoftware/mi_script.py:124:8: W0621: Redefining name 'file_name' from outer scope (line 93) (redefined-outer-name)\n",
            "CalidadSoftware/mi_script.py:125:8: W0621: Redefining name 'file_path' from outer scope (line 94) (redefined-outer-name)\n",
            "CalidadSoftware/mi_script.py:125:8: W0612: Unused variable 'file_path' (unused-variable)\n",
            "CalidadSoftware/mi_script.py:108:4: C0412: Imports from package time are not grouped (ungrouped-imports)\n",
            "CalidadSoftware/mi_script.py:109:0: C0412: Imports from package os are not grouped (ungrouped-imports)\n",
            "CalidadSoftware/mi_script.py:5:0: W0611: Unused import sys (unused-import)\n",
            "\n",
            "-----------------------------------\n",
            "Your code has been rated at 3.55/10\n",
            "\n"
          ]
        }
      ]
    }
  ]
}