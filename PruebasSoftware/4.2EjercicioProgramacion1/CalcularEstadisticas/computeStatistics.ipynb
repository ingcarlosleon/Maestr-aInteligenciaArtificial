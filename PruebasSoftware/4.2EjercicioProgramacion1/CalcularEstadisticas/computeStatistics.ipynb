{
  "nbformat": 4,
  "nbformat_minor": 0,
  "metadata": {
    "colab": {
      "provenance": []
    },
    "kernelspec": {
      "name": "python3",
      "display_name": "Python 3"
    },
    "language_info": {
      "name": "python"
    }
  },
  "cells": [
    {
      "cell_type": "markdown",
      "source": [
        "# Análisis Estadístico de Datos\n",
        "Este cuaderno contiene funciones para calcular estadísticas básicas como la media, la mediana, la moda y la desviación estándar de una lista de números.\n"
      ],
      "metadata": {
        "id": "7QPYBRUy9ObE"
      }
    },
    {
      "cell_type": "code",
      "source": [
        "# Importaciones necesarias\n",
        "import time\n",
        "import sys\n",
        "import math\n",
        "import os\n",
        "\n",
        "base_path = '/content/CalidadSoftware'"
      ],
      "metadata": {
        "id": "V-cZtB3H9RZh"
      },
      "execution_count": 74,
      "outputs": []
    },
    {
      "cell_type": "markdown",
      "source": [
        "Parte 2: Función para Calcular la Media"
      ],
      "metadata": {
        "id": "mEaHNS9s9uzd"
      }
    },
    {
      "cell_type": "code",
      "source": [
        "def calculate_mean(data):\n",
        "    \"\"\"\n",
        "    Calcula la media de una lista de números.\n",
        "    \"\"\"\n",
        "    return sum(data) / len(data) if len(data) > 0 else 0\n"
      ],
      "metadata": {
        "id": "GHPZsU9k9pvy"
      },
      "execution_count": 75,
      "outputs": []
    },
    {
      "cell_type": "markdown",
      "source": [
        "Parte 3: Función para Calcular la Mediana"
      ],
      "metadata": {
        "id": "eKhxwPih93Zy"
      }
    },
    {
      "cell_type": "code",
      "source": [
        "def calculate_median(data):\n",
        "    \"\"\"\n",
        "    Calcula la mediana de una lista de números.\n",
        "    \"\"\"\n",
        "    sorted_data = sorted(data)\n",
        "    n = len(sorted_data)\n",
        "    if n % 2 == 0:\n",
        "        middle1 = sorted_data[n // 2 - 1]\n",
        "        middle2 = sorted_data[n // 2]\n",
        "        return (middle1 + middle2) / 2\n",
        "    return sorted_data[n // 2]\n"
      ],
      "metadata": {
        "id": "d1gPoGWc-Bje"
      },
      "execution_count": 76,
      "outputs": []
    },
    {
      "cell_type": "markdown",
      "source": [
        "Parte 4: Función para Calcular la Moda"
      ],
      "metadata": {
        "id": "Si9TKxUh-G22"
      }
    },
    {
      "cell_type": "code",
      "source": [
        "def calculate_mode(data):\n",
        "    \"\"\"\n",
        "    Calcula la moda de una lista de números.\n",
        "    \"\"\"\n",
        "    frequency = {}\n",
        "    for num in data:\n",
        "        frequency[num] = frequency.get(num, 0) + 1\n",
        "    max_freq = max(frequency.values())\n",
        "    modes = [k for k, v in frequency.items() if v == max_freq]\n",
        "    return modes[0] if modes else None  # Devuelve la primera moda si existe"
      ],
      "metadata": {
        "id": "nvRPjQHw-H1V"
      },
      "execution_count": 77,
      "outputs": []
    },
    {
      "cell_type": "markdown",
      "source": [
        "Parte 5: Función para Calcular la Desviación Estándar"
      ],
      "metadata": {
        "id": "17BGNMeW-UxN"
      }
    },
    {
      "cell_type": "code",
      "source": [
        "def calculate_standard_deviation(data, mean):\n",
        "    \"\"\"\n",
        "    Calcula la desviación estándar de una lista de números.\n",
        "    \"\"\"\n",
        "    variance = sum((x - mean) ** 2 for x in data) / len(data) if len(data) > 0 else 0\n",
        "    return math.sqrt(variance)"
      ],
      "metadata": {
        "id": "DHSVLach-Vnc"
      },
      "execution_count": 78,
      "outputs": []
    },
    {
      "cell_type": "markdown",
      "source": [
        "Parte 6: Función para Calcular la Varianza"
      ],
      "metadata": {
        "id": "aUoyqoacAhBo"
      }
    },
    {
      "cell_type": "code",
      "source": [
        "def calculate_variance(data, mean):\n",
        "    \"\"\"\n",
        "    Calcula la varianza de una lista de números.\n",
        "    \"\"\"\n",
        "    return sum((x - mean) ** 2 for x in data) / len(data) if len(data) > 0 else 0"
      ],
      "metadata": {
        "id": "5KsZu_MgAlj3"
      },
      "execution_count": 79,
      "outputs": []
    },
    {
      "cell_type": "markdown",
      "source": [
        "Parte 7: Función para Manejar Datos Inválidos"
      ],
      "metadata": {
        "id": "8uGwVfIQfKkz"
      }
    },
    {
      "cell_type": "code",
      "source": [
        "def handle_invalid_data(data_str):\n",
        "    \"\"\"\n",
        "    Maneja datos inválidos intentando convertirlos a float.\n",
        "    Si la conversión falla, elimina los caracteres no numéricos y cuenta los datos.\n",
        "    \"\"\"\n",
        "    try:\n",
        "        return float(data_str)\n",
        "    except ValueError:\n",
        "        numeric_value = ''.join(char for char in data_str if char.isdigit() or char == '.')\n",
        "        if numeric_value:\n",
        "            print(f\"Converted non-numeric data: {data_str} to {numeric_value}\")\n",
        "            return float(numeric_value)\n",
        "        print(f\"Ignoring invalid data: {data_str}\")\n",
        "        return None"
      ],
      "metadata": {
        "id": "Km0aAxDC-ete"
      },
      "execution_count": 80,
      "outputs": []
    },
    {
      "cell_type": "markdown",
      "source": [
        "Parte 8: Función para Leer Datos de un Archivo"
      ],
      "metadata": {
        "id": "35z4HfANAvrg"
      }
    },
    {
      "cell_type": "code",
      "source": [
        "def read_data_from_file(filename):\n",
        "    \"\"\"\n",
        "    Lee datos de un archivo y maneja datos inválidos.\n",
        "    Devuelve una lista de valores numéricos.\n",
        "    \"\"\"\n",
        "    data = []\n",
        "    with open(filename, 'r') as file:\n",
        "        for line in file:\n",
        "            for data_str in line.split():\n",
        "                numeric_value = handle_invalid_data(data_str)\n",
        "                if numeric_value is not None:\n",
        "                    data.append(numeric_value)\n",
        "    return data"
      ],
      "metadata": {
        "id": "57MGOFb3AwYu"
      },
      "execution_count": 81,
      "outputs": []
    },
    {
      "cell_type": "markdown",
      "source": [
        "Parte 9: Leer y Procesar Cada Archivo"
      ],
      "metadata": {
        "id": "cub8CFW4IWMR"
      }
    },
    {
      "cell_type": "code",
      "source": [
        "file_names = ['TC1.txt', 'TC2.txt', 'TC3.txt', 'TC4.txt', 'TC5.txt', 'TC6.txt', 'TC7.txt']\n",
        "\n",
        "for file_name in file_names:\n",
        "    file_path = f\"{base_path}/{file_name}\"\n",
        "    print(file_path)\n",
        "    print(f\"Procesando {file_name}...\")\n",
        "    data = read_data_from_file(file_path)\n",
        "    # Aquí puedes llamar a tus funciones de estadísticas como calculate_mean, calculate_median, etc.\n",
        "    # Por ejemplo:\n",
        "    mean = calculate_mean(data)\n",
        "    median = calculate_median(data)\n",
        "    mode = calculate_mode(data)\n",
        "    std_dev = calculate_standard_deviation(data, mean)\n",
        "\n",
        "    # Mostrar resultados\n",
        "    print(f\"Media: {mean}, Mediana: {median}, Moda: {mode}, Desviación Estándar: {std_dev}\")\n"
      ],
      "metadata": {
        "colab": {
          "base_uri": "https://localhost:8080/"
        },
        "id": "k0piYMElIbpX",
        "outputId": "2f72dcad-a54c-4e8a-f9ef-e64a1ddc8bdc"
      },
      "execution_count": 82,
      "outputs": [
        {
          "output_type": "stream",
          "name": "stdout",
          "text": [
            "/content/CalidadSoftware/TC1.txt\n",
            "Procesando TC1.txt...\n",
            "Media: 242.32, Mediana: 239.5, Moda: 393.0, Desviación Estándar: 145.25810683056557\n",
            "/content/CalidadSoftware/TC2.txt\n",
            "Procesando TC2.txt...\n",
            "Media: 250.7840161861406, Mediana: 247.0, Moda: 230.0, Desviación Estándar: 144.17131868884059\n",
            "/content/CalidadSoftware/TC3.txt\n",
            "Procesando TC3.txt...\n",
            "Media: 249.77621989860583, Mediana: 249.0, Moda: 94.0, Desviación Estándar: 145.31784980917962\n",
            "/content/CalidadSoftware/TC4.txt\n",
            "Procesando TC4.txt...\n",
            "Media: 149.00267347908746, Mediana: 147.75, Moda: 123.75, Desviación Estándar: 130.41441961308894\n",
            "/content/CalidadSoftware/TC5.txt\n",
            "Procesando TC5.txt...\n",
            "Ignoring invalid data: ABA\n",
            "Converted non-numeric data: 23,45 to 2345\n",
            "Converted non-numeric data: 11;54 to 1154\n",
            "Ignoring invalid data: ll\n",
            "Media: 251.25566343042073, Mediana: 246.0, Moda: 393.0, Desviación Estándar: 194.78713634976788\n",
            "/content/CalidadSoftware/TC6.txt\n",
            "Procesando TC6.txt...\n",
            "Media: 1.8790659927977473e+20, Mediana: 1.88008049965543e+20, Moda: 1.27620004531949e+20, Desviación Estándar: 1.0738205017381e+20\n",
            "/content/CalidadSoftware/TC7.txt\n",
            "Procesando TC7.txt...\n",
            "Ignoring invalid data: ABBA\n",
            "Ignoring invalid data: ERROR\n",
            "Media: 2.474673954997149e+20, Mediana: 2.4664097307429e+20, Moda: 1.57638329490099e+20, Desviación Estándar: 1.4460564700984703e+20\n"
          ]
        }
      ]
    },
    {
      "cell_type": "code",
      "source": [
        "import time\n",
        "import os\n",
        "from datetime import datetime\n",
        "\n",
        "def main():\n",
        "    start_time = time.time()\n",
        "\n",
        "    # Define la ruta base a tus archivos\n",
        "    base_path = '/content/CalidadSoftware'\n",
        "    file_names = ['TC1.txt', 'TC2.txt', 'TC3.txt', 'TC4.txt', 'TC5.txt', 'TC6.txt', 'TC7.txt']\n",
        "\n",
        "    # Preparar los encabezados para los resultados\n",
        "    headers = [\"TC\", \"COUNT\", \"MEAN\", \"MEDIAN\", \"MODE\", \"SD\", \"VAR\", \"Elapsed Time\", \"Timestamp\"]\n",
        "    file_results = []\n",
        "\n",
        "    # Procesar cada archivo\n",
        "    for file_name in file_names:\n",
        "        file_path = os.path.join(base_path, file_name)\n",
        "        print(f\"Procesando {file_name}...\")\n",
        "\n",
        "        # Llama aquí a tus funciones de procesamiento de datos\n",
        "        # Por ejemplo: data = read_data_from_file(file_path)\n",
        "        # mean, median, mode, std_dev = tus funciones de cálculo de estadísticas\n",
        "\n",
        "        # Simula resultados (reemplaza con tus cálculos reales)\n",
        "        result = [file_name, len(data), mean, median, mode, std_dev, \"variance\", time.time() - start_time, datetime.now()]\n",
        "        file_results.append(result)\n",
        "\n",
        "    # Mostrar y guardar los resultados\n",
        "    for row in file_results:\n",
        "        print('\\t'.join(map(str, row)))\n",
        "\n",
        "    # Al final de tu función main, donde guardas los resultados\n",
        "    result_file_path = os.path.join(base_path, 'StatisticsResults.txt')\n",
        "\n",
        "    with open(result_file_path, 'w', encoding='utf-8') as f:\n",
        "        # Escribir los encabezados\n",
        "        f.write('\\t'.join(headers) + '\\n')\n",
        "        # Escribir los datos\n",
        "        for row in file_results:\n",
        "            f.write('\\t'.join(map(str, row)) + '\\n')\n",
        "    print(f\"Results saved to {result_file_path}\")\n",
        "\n",
        "    # Medir y mostrar el tiempo transcurrido\n",
        "    elapsed_time = time.time() - start_time\n",
        "    print(f\"Tiempo total transcurrido: {elapsed_time} segundos.\")\n",
        "\n",
        "# Ejecutar la función principal\n",
        "if __name__ == \"__main__\":\n",
        "    main()\n"
      ],
      "metadata": {
        "id": "E6pgrvzg0MA5",
        "outputId": "de96ba0e-d83e-4fe3-e4de-c6f31ea0c46b",
        "colab": {
          "base_uri": "https://localhost:8080/"
        }
      },
      "execution_count": 86,
      "outputs": [
        {
          "output_type": "stream",
          "name": "stdout",
          "text": [
            "Procesando TC1.txt...\n",
            "Procesando TC2.txt...\n",
            "Procesando TC3.txt...\n",
            "Procesando TC4.txt...\n",
            "Procesando TC5.txt...\n",
            "Procesando TC6.txt...\n",
            "Procesando TC7.txt...\n",
            "TC1.txt\t12767\t2.474673954997149e+20\t2.4664097307429e+20\t1.57638329490099e+20\t1.4460564700984703e+20\tvariance\t8.7738037109375e-05\t2024-02-05 01:19:37.421913\n",
            "TC2.txt\t12767\t2.474673954997149e+20\t2.4664097307429e+20\t1.57638329490099e+20\t1.4460564700984703e+20\tvariance\t0.00013446807861328125\t2024-02-05 01:19:37.421958\n",
            "TC3.txt\t12767\t2.474673954997149e+20\t2.4664097307429e+20\t1.57638329490099e+20\t1.4460564700984703e+20\tvariance\t0.00016736984252929688\t2024-02-05 01:19:37.421991\n",
            "TC4.txt\t12767\t2.474673954997149e+20\t2.4664097307429e+20\t1.57638329490099e+20\t1.4460564700984703e+20\tvariance\t0.0006127357482910156\t2024-02-05 01:19:37.422437\n",
            "TC5.txt\t12767\t2.474673954997149e+20\t2.4664097307429e+20\t1.57638329490099e+20\t1.4460564700984703e+20\tvariance\t0.0006425380706787109\t2024-02-05 01:19:37.422466\n",
            "TC6.txt\t12767\t2.474673954997149e+20\t2.4664097307429e+20\t1.57638329490099e+20\t1.4460564700984703e+20\tvariance\t0.0006616115570068359\t2024-02-05 01:19:37.422485\n",
            "TC7.txt\t12767\t2.474673954997149e+20\t2.4664097307429e+20\t1.57638329490099e+20\t1.4460564700984703e+20\tvariance\t0.0006794929504394531\t2024-02-05 01:19:37.422503\n",
            "URL: /content/CalidadSoftware\n",
            "Results saved to /content/CalidadSoftware/StatisticsResults.txt\n",
            "Tiempo total transcurrido: 0.010835886001586914 segundos.\n"
          ]
        }
      ]
    },
    {
      "cell_type": "markdown",
      "source": [],
      "metadata": {
        "id": "ZeGFxkkmIY_3"
      }
    }
  ]
}