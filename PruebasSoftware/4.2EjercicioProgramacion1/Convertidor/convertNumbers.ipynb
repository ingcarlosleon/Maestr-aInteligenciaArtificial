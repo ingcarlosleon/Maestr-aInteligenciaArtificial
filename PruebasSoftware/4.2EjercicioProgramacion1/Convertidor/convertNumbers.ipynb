{
  "nbformat": 4,
  "nbformat_minor": 0,
  "metadata": {
    "colab": {
      "provenance": []
    },
    "kernelspec": {
      "name": "python3",
      "display_name": "Python 3"
    },
    "language_info": {
      "name": "python"
    }
  },
  "cells": [
    {
      "cell_type": "markdown",
      "source": [
        "Parte 1: Importaciones"
      ],
      "metadata": {
        "id": "n0AYTR1LI5Ew"
      }
    },
    {
      "cell_type": "code",
      "execution_count": 3,
      "metadata": {
        "id": "WgPAcr6uIyJU"
      },
      "outputs": [],
      "source": [
        "# Importa las bibliotecas necesarias para el script.\n",
        "import sys\n",
        "import time\n",
        "#/content/Conversion/TC1.txt"
      ]
    },
    {
      "cell_type": "markdown",
      "source": [
        "Parte 2: Definición de Funciones\n"
      ],
      "metadata": {
        "id": "0tHsHuDwI658"
      }
    },
    {
      "cell_type": "code",
      "source": [
        "def decimal_to_binary_recursive(n):\n",
        "    \"\"\"\n",
        "    Convierte un número decimal a su representación binaria usando recursividad.\n",
        "    :param n: Número decimal a convertir.\n",
        "    :return: Representación binaria como string.\n",
        "    \"\"\"\n",
        "    if n == 0:\n",
        "        return '0'\n",
        "    return (\n",
        "        '-' + decimal_to_binary_recursive(-n) if n < 0\n",
        "        else decimal_to_binary_recursive(n // 2) + str(n % 2)\n",
        "    )\n",
        "\n",
        "def convert_numbers(file_path):\n",
        "    \"\"\"\n",
        "    Convierte números de un archivo a bases binarias y hexadecimales.\n",
        "    :param file_path: Ruta al archivo que contiene la lista de números.\n",
        "    :return: Tupla con listas de resultados binarios y hexadecimales.\n",
        "    \"\"\"\n",
        "    try:\n",
        "        with open(file_path, 'r', encoding='utf-8') as file:\n",
        "            numbers = [line.strip() for line in file]\n",
        "    except FileNotFoundError:\n",
        "        print(f\"Error: File '{file_path}' not found.\")\n",
        "        return None\n",
        "\n",
        "    binary_results = []\n",
        "    hex_results = []\n",
        "\n",
        "    for _, number in enumerate(numbers, start=1):\n",
        "        try:\n",
        "            num = int(number)\n",
        "            binary_result = decimal_to_binary_recursive(num)\n",
        "            hex_result = format(num if num >= 0 else (1 << 32) + num, 'X')\n",
        "        except ValueError:\n",
        "            print(f\"Error: Invalid data found - '{number}' in the file.\")\n",
        "            binary_result, hex_result = \"#VALUE!\", \"#VALUE!\"\n",
        "\n",
        "        binary_results.append(binary_result)\n",
        "        hex_results.append(hex_result)\n",
        "\n",
        "    return binary_results, hex_results, numbers\n",
        "\n",
        "def convert_numbers(file_path):\n",
        "    \"\"\"\n",
        "    Convierte números de un archivo a bases binarias y hexadecimales.\n",
        "    :param file_path: Ruta al archivo que contiene la lista de números.\n",
        "    :return: Tupla con listas de resultados binarios y hexadecimales.\n",
        "    \"\"\"\n",
        "    try:\n",
        "        with open(file_path, 'r', encoding='utf-8') as file:\n",
        "            numbers = [line.strip() for line in file]\n",
        "    except FileNotFoundError:\n",
        "        print(f\"Error: File '{file_path}' not found.\")\n",
        "        return None\n",
        "\n",
        "    binary_results = []\n",
        "    hex_results = []\n",
        "\n",
        "    for _, number in enumerate(numbers, start=1):\n",
        "        try:\n",
        "            num = int(number)\n",
        "            binary_result = decimal_to_binary_recursive(num)\n",
        "            hex_result = format(num if num >= 0 else (1 << 32) + num, 'X')\n",
        "        except ValueError:\n",
        "            print(f\"Error: Invalid data found - '{number}' in the file.\")\n",
        "            binary_result, hex_result = \"#VALUE!\", \"#VALUE!\"\n",
        "\n",
        "        binary_results.append(binary_result)\n",
        "        hex_results.append(hex_result)\n",
        "\n",
        "    return binary_results, hex_results, numbers\n",
        "\n",
        "def convert_numbers(file_path):\n",
        "    \"\"\"\n",
        "    Convierte números de un archivo a bases binarias y hexadecimales.\n",
        "    :param file_path: Ruta al archivo que contiene la lista de números.\n",
        "    :return: Tupla con listas de resultados binarios y hexadecimales.\n",
        "    \"\"\"\n",
        "    try:\n",
        "        with open(file_path, 'r', encoding='utf-8') as file:\n",
        "            numbers = [line.strip() for line in file]\n",
        "    except FileNotFoundError:\n",
        "        print(f\"Error: File '{file_path}' not found.\")\n",
        "        return None\n",
        "\n",
        "    binary_results = []\n",
        "    hex_results = []\n",
        "\n",
        "    for _, number in enumerate(numbers, start=1):\n",
        "        try:\n",
        "            num = int(number)\n",
        "            binary_result = decimal_to_binary_recursive(num)\n",
        "            hex_result = format(num if num >= 0 else (1 << 32) + num, 'X')\n",
        "        except ValueError:\n",
        "            print(f\"Error: Invalid data found - '{number}' in the file.\")\n",
        "            binary_result, hex_result = \"#VALUE!\", \"#VALUE!\"\n",
        "\n",
        "        binary_results.append(binary_result)\n",
        "        hex_results.append(hex_result)\n",
        "\n",
        "    return binary_results, hex_results, numbers\n"
      ],
      "metadata": {
        "id": "tAcxVZYsI8ur"
      },
      "execution_count": 4,
      "outputs": []
    },
    {
      "cell_type": "markdown",
      "source": [
        "Parte 3: Función Principal (main)\n"
      ],
      "metadata": {
        "id": "kLB-KHSGI_6J"
      }
    },
    {
      "cell_type": "code",
      "source": [
        "def main():\n",
        "    \"\"\"\n",
        "    Función principal para ejecutar el proceso de conversión y mostrar el tiempo transcurrido.\n",
        "    \"\"\"\n",
        "    base_path = '/content/Conversion/'\n",
        "    input_file_path = base_path + 'input_file.txt'  # Ajusta el nombre de archivo según sea necesario.\n",
        "    print(input_file_path)\n",
        "    start_time = time.time()\n",
        "\n",
        "    with open(base_path + \"ConversionResults.txt\", 'w', encoding='utf-8') as results_file:\n",
        "        binary_results, hex_results, values = convert_numbers(input_file_path)\n",
        "        if binary_results is not None:\n",
        "            write_results_to_file(results_file, binary_results, hex_results, values)\n",
        "\n",
        "    end_time = time.time()\n",
        "    print(\"Conversion results have been written to ConversionResults.txt\")\n",
        "    elapsed_time = end_time - start_time\n",
        "    print(f\"Elapsed time: {elapsed_time:.4f} seconds\")\n",
        "\n"
      ],
      "metadata": {
        "id": "i4B38L1gJCJu"
      },
      "execution_count": 12,
      "outputs": []
    },
    {
      "cell_type": "markdown",
      "source": [
        "Parte 4: Ejecutar la Función Principal\n"
      ],
      "metadata": {
        "id": "lKs4iN7mJEPt"
      }
    },
    {
      "cell_type": "code",
      "source": [
        "main()\n"
      ],
      "metadata": {
        "colab": {
          "base_uri": "https://localhost:8080/"
        },
        "id": "u7tTo6r0N_UY",
        "outputId": "d9fdea88-4cb7-4e1e-c32c-1d4f426ca628"
      },
      "execution_count": 15,
      "outputs": [
        {
          "output_type": "stream",
          "name": "stdout",
          "text": [
            "/content/Conversion/input_file.txt\n",
            "Error: Invalid data found - '' in the file.\n",
            "Error: Invalid data found - 'ABC' in the file.\n",
            "Error: Invalid data found - 'ERR' in the file.\n",
            "Error: Invalid data found - 'VAL' in the file.\n",
            "Conversion results have been written to ConversionResults.txt\n",
            "Elapsed time: 0.0112 seconds\n"
          ]
        }
      ]
    }
  ]
}